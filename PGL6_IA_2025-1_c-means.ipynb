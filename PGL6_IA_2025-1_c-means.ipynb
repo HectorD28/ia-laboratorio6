{
 "cells": [
  {
   "cell_type": "markdown",
   "metadata": {
    "id": "o-xWqb02KemZ"
   },
   "source": [
    "# Práctica Guiada de Laboratorio 6 - Curso IA 2025-1 Grupo 3 EPIS\n",
    "# Implementación de técnicas de Machine Learning - c-means\n",
    "### Prof. Rolando A. Maguiña Pérez"
   ]
  },
  {
   "cell_type": "markdown",
   "metadata": {
    "id": "cCpjHP4hKemb"
   },
   "source": [
    "# Introducción\n",
    "En la presente práctica, a realizarse el 05 de Abril del 2025, se presentará, a manera de ejemplo, el problema denominado “Predicción de préstamo” mediante la técnica  del  `Machine Learning` denominada `c-means`, la cual corresponde al aprendizaje no supervisado. Luego de la presentación del problema, se ajustarán los datos de modo que se formen agrupamientos mediante su respectivo algoritmo; luego, se evaluará sobre un conjunto de datos de validación si se han determinado correctamente dichos agrupamientos (modelo predictivo). Posteriormente podremos usar los agrupamientos formados para resolver el problema de clasificación subyacente.\n",
    "\n",
    "En estas actividades no se usará la biblioteca de aprendizaje automático para el lenguaje de programación Python llamada  [scikit-learn](https://scikit-learn.org/stable/) para construir el algoritmo c-means. Este se construirá desde cero. Para el ejercicio propuesto (PGL6_IA_2025-1_c-means_EjercicioPropuesto.ipynb) sí deberá usarse dicha herramienta computacional.\n",
    "\n",
    "Las principales actividades a desarrollar en esta práctica son:\n",
    "* Instalación de la biblioteca llamada scikit-learn.\n",
    "* Construcción de un par de algoritmos del área de la IA denominada  `Machine Learning` mediante el scikit-learn.\n",
    "* Entrenamiento para obtener el modelo.\n",
    "* Validación del modelo.\n",
    "* Evaluación del modelo.\n",
    "\n",
    "Luego de realizar estas actividades, se plantearán algunas preguntas que los alumnos deberán resolver.\n",
    "\n",
    "# Objetivos\n",
    "Los objetivos de esta Práctica son:\n",
    "- Conocer la biblioteca de aprendizaje automático llamada `scikit-learn`.\n",
    "- Conocer la implementación de un par de técnicas de Machine Learning con `scikit-learn`.\n",
    "- Aprender las etapas del procesamiento de una data: entrenamiento/validación.\n",
    "- Obtener el mejor modelo predictivo que resuelva el problema planteado.\n",
    "\n",
    "**Nota: esta Práctica podrá desarrollarse en grupos de tres alumnos.**"
   ]
  },
  {
   "cell_type": "markdown",
   "metadata": {
    "id": "QvXDgaYLKemb"
   },
   "source": [
    "# scikit-learn\n",
    "## Introducción al scikit-learn\n",
    "[scikit-learn](https://scikit-learn.org/stable/) es una de las herramientas computacionales más populares y usadas en Machine Learning. Incluye algoritmos para abordar problemas de clasificación, regresión y clustering; asimismo, para otras tareas relacionadas, tales como, reducción de dimensionalidad, preprocesamiento del dataset, entre otras.\n",
    "\n",
    "Para esta Práctica se deberá instalar previamente, para luego ser usada en la resolución de un ejercicio.\n",
    "\n",
    "## Instalación del scikit-learn\n",
    "Instalar el scikit-learn siguiendo lo indicado en [Installing the latest release](https://scikit-learn.org/stable/install.html#install-official-release).\n",
    "\n",
    "Se puede usar el sistema de gestión de paquetes llamado `pip` o el `conda`. Se recomienda usar el segundo de los nombrados."
   ]
  },
  {
   "cell_type": "markdown",
   "metadata": {
    "id": "2zk5auhbKemb"
   },
   "source": [
    "# Predicción de préstamo\n",
    "## Introducción al problema\n",
    "La empresa `Dream Housing Finance` gestiona todo tipo de préstamos hipotecarios. Tiene presencia en zonas urbanas, semiurbanas y rurales. El cliente solicita un préstamo hipotecario después de que la empresa valide su elegibilidad. La empresa busca automatizar el proceso de elegibilidad para\n",
    "préstamos (en tiempo real) basándose en los datos del cliente proporcionados al completar el formulario de solicitud en línea. Estos datos incluyen Género, Estado Civil, Educación, Número de Dependientes, Ingresos, Montos de los Préstamos, Historial Crediticio, entre otros. Para automatizar este proceso, se ha implementado un problema para identificar los segmentos de clientes elegibles para el préstamo, de modo que se pueda identificar específicamente a estos clientes.\n",
    "\n",
    "## Planteamiento del problema ejm\n",
    "Se trata del problema de la predicción de préstamos, un problema bastante conocido en esta área. La predicción de préstamos es un problema muy común en la vida real que todo banco minorista enfrenta al menos una vez en su vida. Si se realiza correctamente, puede ahorrar muchas horas de trabajo al final de la operación de un banco minorista.\n",
    "\n",
    "A pesar de que abordaremos el problema como uno de agrupamiento o clustering, posteriormente permitirá resolver el problema de clasificación subyacente en el que tenemos que predecir si un préstamo será aprobado o no.\n",
    "\n",
    "El dataset consta de 9 atributos (entradas):\n",
    "\n",
    "1. Género.\n",
    "2. Estado Civil.\n",
    "3. Educación.\n",
    "4. Número de Dependientes.\n",
    "5. Ingresos.\n",
    "6. Montos de los Préstamos,\n",
    "7. Historial Crediticio\n",
    "8. Área de la propiedad\n",
    "9. Estado_préstamo\n",
    "\n",
    "## Solución del problema ejm\n",
    "Los pasos que vamos a dar para resolver este problema son los siguientes:  \n",
    "  - Carga de los datos y módulos/bibliotecas necesarias para este ejemplo.\n",
    "  - Exploración de los datos.\n",
    "  - Ajuste de los datos mediaante algoritmo c-means.\n",
    "  - Aplicación de los modelos para hacer predicciones a partir de lo «aprendido» y su respectiva evaluación para seleccionar el modelo más adecuado para este caso."
   ]
  },
  {
   "cell_type": "code",
   "execution_count": 1,
   "metadata": {
    "colab": {
     "base_uri": "https://localhost:8080/",
     "height": 321
    },
    "executionInfo": {
     "elapsed": 172,
     "status": "error",
     "timestamp": 1746494269515,
     "user": {
      "displayName": "ALVARO RIMBAUD POMA ALEGRE",
      "userId": "04550474004950021085"
     },
     "user_tz": 300
    },
    "id": "dZfhgKzIKemc",
    "outputId": "32e9f66c-e6b7-48f9-f757-aef458a4a46c"
   },
   "outputs": [
    {
     "ename": "FileNotFoundError",
     "evalue": "[Errno 2] No such file or directory: 'C:\\\\Users\\\\Laboratorio05\\\\Downloads\\\\dataset_cinco-filas.jpg'",
     "output_type": "error",
     "traceback": [
      "\u001b[0;31m---------------------------------------------------------------------------\u001b[0m",
      "\u001b[0;31mFileNotFoundError\u001b[0m                         Traceback (most recent call last)",
      "\u001b[0;32m<ipython-input-1-b034aab576f4>\u001b[0m in \u001b[0;36m<cell line: 0>\u001b[0;34m()\u001b[0m\n\u001b[1;32m      1\u001b[0m \u001b[0;32mfrom\u001b[0m \u001b[0mIPython\u001b[0m\u001b[0;34m.\u001b[0m\u001b[0mdisplay\u001b[0m \u001b[0;32mimport\u001b[0m \u001b[0mImage\u001b[0m\u001b[0;34m,\u001b[0m \u001b[0mdisplay\u001b[0m\u001b[0;34m\u001b[0m\u001b[0;34m\u001b[0m\u001b[0m\n\u001b[0;32m----> 2\u001b[0;31m \u001b[0mImage\u001b[0m\u001b[0;34m(\u001b[0m\u001b[0mfilename\u001b[0m\u001b[0;34m=\u001b[0m\u001b[0;34mr\"C:\\Users\\Laboratorio05\\Downloads\\dataset_cinco-filas.jpg\"\u001b[0m\u001b[0;34m)\u001b[0m\u001b[0;34m\u001b[0m\u001b[0;34m\u001b[0m\u001b[0m\n\u001b[0m",
      "\u001b[0;32m/usr/local/lib/python3.11/dist-packages/IPython/core/display.py\u001b[0m in \u001b[0;36m__init__\u001b[0;34m(self, data, url, filename, format, embed, width, height, retina, unconfined, metadata)\u001b[0m\n\u001b[1;32m   1229\u001b[0m         \u001b[0mself\u001b[0m\u001b[0;34m.\u001b[0m\u001b[0mretina\u001b[0m \u001b[0;34m=\u001b[0m \u001b[0mretina\u001b[0m\u001b[0;34m\u001b[0m\u001b[0;34m\u001b[0m\u001b[0m\n\u001b[1;32m   1230\u001b[0m         \u001b[0mself\u001b[0m\u001b[0;34m.\u001b[0m\u001b[0munconfined\u001b[0m \u001b[0;34m=\u001b[0m \u001b[0munconfined\u001b[0m\u001b[0;34m\u001b[0m\u001b[0;34m\u001b[0m\u001b[0m\n\u001b[0;32m-> 1231\u001b[0;31m         super(Image, self).__init__(data=data, url=url, filename=filename, \n\u001b[0m\u001b[1;32m   1232\u001b[0m                 metadata=metadata)\n\u001b[1;32m   1233\u001b[0m \u001b[0;34m\u001b[0m\u001b[0m\n",
      "\u001b[0;32m/usr/local/lib/python3.11/dist-packages/IPython/core/display.py\u001b[0m in \u001b[0;36m__init__\u001b[0;34m(self, data, url, filename, metadata)\u001b[0m\n\u001b[1;32m    635\u001b[0m             \u001b[0mself\u001b[0m\u001b[0;34m.\u001b[0m\u001b[0mmetadata\u001b[0m \u001b[0;34m=\u001b[0m \u001b[0;34m{\u001b[0m\u001b[0;34m}\u001b[0m\u001b[0;34m\u001b[0m\u001b[0;34m\u001b[0m\u001b[0m\n\u001b[1;32m    636\u001b[0m \u001b[0;34m\u001b[0m\u001b[0m\n\u001b[0;32m--> 637\u001b[0;31m         \u001b[0mself\u001b[0m\u001b[0;34m.\u001b[0m\u001b[0mreload\u001b[0m\u001b[0;34m(\u001b[0m\u001b[0;34m)\u001b[0m\u001b[0;34m\u001b[0m\u001b[0;34m\u001b[0m\u001b[0m\n\u001b[0m\u001b[1;32m    638\u001b[0m         \u001b[0mself\u001b[0m\u001b[0;34m.\u001b[0m\u001b[0m_check_data\u001b[0m\u001b[0;34m(\u001b[0m\u001b[0;34m)\u001b[0m\u001b[0;34m\u001b[0m\u001b[0;34m\u001b[0m\u001b[0m\n\u001b[1;32m    639\u001b[0m \u001b[0;34m\u001b[0m\u001b[0m\n",
      "\u001b[0;32m/usr/local/lib/python3.11/dist-packages/IPython/core/display.py\u001b[0m in \u001b[0;36mreload\u001b[0;34m(self)\u001b[0m\n\u001b[1;32m   1261\u001b[0m         \u001b[0;34m\"\"\"Reload the raw data from file or URL.\"\"\"\u001b[0m\u001b[0;34m\u001b[0m\u001b[0;34m\u001b[0m\u001b[0m\n\u001b[1;32m   1262\u001b[0m         \u001b[0;32mif\u001b[0m \u001b[0mself\u001b[0m\u001b[0;34m.\u001b[0m\u001b[0membed\u001b[0m\u001b[0;34m:\u001b[0m\u001b[0;34m\u001b[0m\u001b[0;34m\u001b[0m\u001b[0m\n\u001b[0;32m-> 1263\u001b[0;31m             \u001b[0msuper\u001b[0m\u001b[0;34m(\u001b[0m\u001b[0mImage\u001b[0m\u001b[0;34m,\u001b[0m\u001b[0mself\u001b[0m\u001b[0;34m)\u001b[0m\u001b[0;34m.\u001b[0m\u001b[0mreload\u001b[0m\u001b[0;34m(\u001b[0m\u001b[0;34m)\u001b[0m\u001b[0;34m\u001b[0m\u001b[0;34m\u001b[0m\u001b[0m\n\u001b[0m\u001b[1;32m   1264\u001b[0m             \u001b[0;32mif\u001b[0m \u001b[0mself\u001b[0m\u001b[0;34m.\u001b[0m\u001b[0mretina\u001b[0m\u001b[0;34m:\u001b[0m\u001b[0;34m\u001b[0m\u001b[0;34m\u001b[0m\u001b[0m\n\u001b[1;32m   1265\u001b[0m                 \u001b[0mself\u001b[0m\u001b[0;34m.\u001b[0m\u001b[0m_retina_shape\u001b[0m\u001b[0;34m(\u001b[0m\u001b[0;34m)\u001b[0m\u001b[0;34m\u001b[0m\u001b[0;34m\u001b[0m\u001b[0m\n",
      "\u001b[0;32m/usr/local/lib/python3.11/dist-packages/IPython/core/display.py\u001b[0m in \u001b[0;36mreload\u001b[0;34m(self)\u001b[0m\n\u001b[1;32m    660\u001b[0m         \u001b[0;34m\"\"\"Reload the raw data from file or URL.\"\"\"\u001b[0m\u001b[0;34m\u001b[0m\u001b[0;34m\u001b[0m\u001b[0m\n\u001b[1;32m    661\u001b[0m         \u001b[0;32mif\u001b[0m \u001b[0mself\u001b[0m\u001b[0;34m.\u001b[0m\u001b[0mfilename\u001b[0m \u001b[0;32mis\u001b[0m \u001b[0;32mnot\u001b[0m \u001b[0;32mNone\u001b[0m\u001b[0;34m:\u001b[0m\u001b[0;34m\u001b[0m\u001b[0;34m\u001b[0m\u001b[0m\n\u001b[0;32m--> 662\u001b[0;31m             \u001b[0;32mwith\u001b[0m \u001b[0mopen\u001b[0m\u001b[0;34m(\u001b[0m\u001b[0mself\u001b[0m\u001b[0;34m.\u001b[0m\u001b[0mfilename\u001b[0m\u001b[0;34m,\u001b[0m \u001b[0mself\u001b[0m\u001b[0;34m.\u001b[0m\u001b[0m_read_flags\u001b[0m\u001b[0;34m)\u001b[0m \u001b[0;32mas\u001b[0m \u001b[0mf\u001b[0m\u001b[0;34m:\u001b[0m\u001b[0;34m\u001b[0m\u001b[0;34m\u001b[0m\u001b[0m\n\u001b[0m\u001b[1;32m    663\u001b[0m                 \u001b[0mself\u001b[0m\u001b[0;34m.\u001b[0m\u001b[0mdata\u001b[0m \u001b[0;34m=\u001b[0m \u001b[0mf\u001b[0m\u001b[0;34m.\u001b[0m\u001b[0mread\u001b[0m\u001b[0;34m(\u001b[0m\u001b[0;34m)\u001b[0m\u001b[0;34m\u001b[0m\u001b[0;34m\u001b[0m\u001b[0m\n\u001b[1;32m    664\u001b[0m         \u001b[0;32melif\u001b[0m \u001b[0mself\u001b[0m\u001b[0;34m.\u001b[0m\u001b[0murl\u001b[0m \u001b[0;32mis\u001b[0m \u001b[0;32mnot\u001b[0m \u001b[0;32mNone\u001b[0m\u001b[0;34m:\u001b[0m\u001b[0;34m\u001b[0m\u001b[0;34m\u001b[0m\u001b[0m\n",
      "\u001b[0;31mFileNotFoundError\u001b[0m: [Errno 2] No such file or directory: 'C:\\\\Users\\\\Laboratorio05\\\\Downloads\\\\dataset_cinco-filas.jpg'"
     ]
    }
   ],
   "source": [
    "from IPython.display import Image, display\n",
    "Image(filename=r\"C:\\Users\\Laboratorio05\\Downloads\\dataset_cinco-filas.jpg\")"
   ]
  },
  {
   "cell_type": "markdown",
   "metadata": {
    "id": "rNSWZI1vKemc"
   },
   "source": [
    "### Carga de los módulos/bibliotecas y la data\n",
    "Hay una gran variedad de bibliotecas (librerías) que tenemos disponibles y en cada una de ellas, a su vez, hay módulos distintos.  Pero para poder utilizar, tanto las librerías como los módulos,  hay que importarlos explícitamente.\n",
    "\n",
    "Para el problema ejemplo importaremos primero los módulos/librerías que necesitamos para este experimento en particular.  A continuación, se cargará la data que está en el archivo CSV y leeremos las cinco primeras filas."
   ]
  },
  {
   "cell_type": "code",
   "execution_count": null,
   "metadata": {
    "executionInfo": {
     "elapsed": 1,
     "status": "aborted",
     "timestamp": 1746494269579,
     "user": {
      "displayName": "ALVARO RIMBAUD POMA ALEGRE",
      "userId": "04550474004950021085"
     },
     "user_tz": 300
    },
    "id": "HsgXRg2-Kemd"
   },
   "outputs": [],
   "source": [
    "#import libraries\n",
    "import pandas as pd\n",
    "import numpy as np\n",
    "import random as rd\n",
    "import matplotlib.pyplot as plt"
   ]
  },
  {
   "cell_type": "code",
   "execution_count": null,
   "metadata": {
    "executionInfo": {
     "elapsed": 1,
     "status": "aborted",
     "timestamp": 1746494269580,
     "user": {
      "displayName": "ALVARO RIMBAUD POMA ALEGRE",
      "userId": "04550474004950021085"
     },
     "user_tz": 300
    },
    "id": "Xtzz9jjRKemd"
   },
   "outputs": [],
   "source": [
    "data = pd.read_csv(r\"C:\\Users\\Laboratorio05\\Downloads\\clustering.csv\")\n",
    "data.head()"
   ]
  },
  {
   "cell_type": "markdown",
   "metadata": {
    "id": "aI9pocv6Kemd"
   },
   "source": [
    "### Exploración de los datos\n",
    "\n",
    "En esta etapa se analizarán las características de los datos, tales como su dimensión, qué aspecto tienen, se hará también un pequeño análisis estadístico de sus atributos y se les agrupará por clases. Cada una de estas acciones implica la ejecución  de un solo comando que, además se podrá reutilizar en proyectos futuros. En particular, se usará la función `shape`, que proporcionará las dimensiones del dataset, la función `head`, que mostrará los datos (se le puede indicar incluso el número de registros que se desea, muestre), y la función `describe`, que dará valores estadísticos sobre el dataset."
   ]
  },
  {
   "cell_type": "markdown",
   "metadata": {
    "id": "qfyR0pnmKemd"
   },
   "source": [
    "Verificamos las características del dataset. Usamos la clave `DESCR`, la cual proporciona una explicación de la estructura del conjunto de datos. Para leerlo, use la función print():"
   ]
  },
  {
   "cell_type": "code",
   "execution_count": null,
   "metadata": {
    "executionInfo": {
     "elapsed": 1,
     "status": "aborted",
     "timestamp": 1746494269581,
     "user": {
      "displayName": "ALVARO RIMBAUD POMA ALEGRE",
      "userId": "04550474004950021085"
     },
     "user_tz": 300
    },
    "id": "PA8OZqbmKemd"
   },
   "outputs": [],
   "source": [
    "print('Características del dataset:')\n",
    "print(data.describe)"
   ]
  },
  {
   "cell_type": "markdown",
   "metadata": {
    "id": "ghOcWyhZKemd"
   },
   "source": [
    "Para esta Práctica, tomaremos sólo dos variables de los datos: `LoanAmount` (\"Importe del Préstamo\") y `ApplicantIncome` (\"Ingresos del Solicitante\"). Esto también facilitará la visualización de los pasos. Seleccionemos estas dos variables y visualicemos los puntos de datos:"
   ]
  },
  {
   "cell_type": "code",
   "execution_count": null,
   "metadata": {
    "executionInfo": {
     "elapsed": 0,
     "status": "aborted",
     "timestamp": 1746494269581,
     "user": {
      "displayName": "ALVARO RIMBAUD POMA ALEGRE",
      "userId": "04550474004950021085"
     },
     "user_tz": 300
    },
    "id": "D5DBbhjzKemd"
   },
   "outputs": [],
   "source": [
    "X = data[[\"LoanAmount\",\"ApplicantIncome\"]]\n",
    "#Visualise data points\n",
    "plt.scatter(X[\"ApplicantIncome\"],X[\"LoanAmount\"],c='black')\n",
    "plt.xlabel('AnnualIncome')\n",
    "plt.ylabel('Loan Amount (In Thousands)')\n",
    "plt.show()"
   ]
  },
  {
   "cell_type": "markdown",
   "metadata": {
    "id": "FLxai3OoKemd"
   },
   "source": [
    "Los pasos 1 y 2 de c-means consisten en elegir el número de clústeres (k) y seleccionar centroides aleatorios para cada clúster. Seleccionaremos tres clústeres y luego seleccionaremos observaciones aleatorias de los datos como centroides:   "
   ]
  },
  {
   "cell_type": "code",
   "execution_count": null,
   "metadata": {
    "executionInfo": {
     "elapsed": 0,
     "status": "aborted",
     "timestamp": 1746494269582,
     "user": {
      "displayName": "ALVARO RIMBAUD POMA ALEGRE",
      "userId": "04550474004950021085"
     },
     "user_tz": 300
    },
    "id": "fipSPNj7Keme"
   },
   "outputs": [],
   "source": [
    "# Step 1 and 2 - Choose the number of clusters (k) and select random centroid for each cluster\n",
    "\n",
    "#number of clusters\n",
    "K=3\n",
    "\n",
    "# Select random observation as centroids\n",
    "Centroids = (X.sample(n=K))\n",
    "plt.scatter(X[\"ApplicantIncome\"],X[\"LoanAmount\"],c='black')\n",
    "plt.scatter(Centroids[\"ApplicantIncome\"],Centroids[\"LoanAmount\"],c='red')\n",
    "plt.xlabel('AnnualIncome')\n",
    "plt.ylabel('Loan Amount (In Thousands)')\n",
    "plt.show()"
   ]
  },
  {
   "cell_type": "markdown",
   "metadata": {
    "id": "MCLzwiBmKeme"
   },
   "source": [
    "Aquí, los puntos rojos representan los 3 centroides de cada clúster. Tenga en cuenta que hemos elegido estos puntos aleatoriamente y, por lo tanto, cada vez que ejecute este código, podría obtener diferentes centroides.\n",
    "\n",
    "A continuación, definiremos algunas condiciones para implementar el algoritmo de agrupamiento c-means. Veamos primero el código:"
   ]
  },
  {
   "cell_type": "code",
   "execution_count": null,
   "metadata": {
    "executionInfo": {
     "elapsed": 441,
     "status": "aborted",
     "timestamp": 1746494269602,
     "user": {
      "displayName": "ALVARO RIMBAUD POMA ALEGRE",
      "userId": "04550474004950021085"
     },
     "user_tz": 300
    },
    "id": "BzprZ94dKeme"
   },
   "outputs": [],
   "source": [
    "# Step 3 - Assign all the points to the closest cluster centroid\n",
    "# Step 4 - Recompute centroids of newly formed clusters\n",
    "# Step 5 - Repeat step 3 and 4\n",
    "\n",
    "diff = 1\n",
    "j=0\n",
    "\n",
    "while(diff!=0):\n",
    "    XD=X\n",
    "    i=1\n",
    "    for index1,row_c in Centroids.iterrows():\n",
    "        ED=[]\n",
    "        for index2,row_d in XD.iterrows():\n",
    "            d1=(row_c[\"ApplicantIncome\"]-row_d[\"ApplicantIncome\"])**2\n",
    "            d2=(row_c[\"LoanAmount\"]-row_d[\"LoanAmount\"])**2\n",
    "            d=np.sqrt(d1+d2)\n",
    "            ED.append(d)\n",
    "        X[i]=ED\n",
    "        i=i+1\n",
    "\n",
    "    C=[]\n",
    "    for index,row in X.iterrows():\n",
    "        min_dist=row[1]\n",
    "        pos=1\n",
    "        for i in range(K):\n",
    "            if row[i+1] < min_dist:\n",
    "                min_dist = row[i+1]\n",
    "                pos=i+1\n",
    "        C.append(pos)\n",
    "    X[\"Cluster\"]=C\n",
    "    Centroids_new = X.groupby([\"Cluster\"]).mean()[[\"LoanAmount\",\"ApplicantIncome\"]]\n",
    "    if j == 0:\n",
    "        diff=1\n",
    "        j=j+1\n",
    "    else:\n",
    "        diff = (Centroids_new['LoanAmount'] - Centroids['LoanAmount']).sum() + (Centroids_new['ApplicantIncome'] - Centroids['ApplicantIncome']).sum()\n",
    "        print(diff.sum())\n",
    "    Centroids = X.groupby([\"Cluster\"]).mean()[[\"LoanAmount\",\"ApplicantIncome\"]]"
   ]
  },
  {
   "cell_type": "markdown",
   "metadata": {
    "id": "h_y5Otb_Keme"
   },
   "source": [
    "Estos valores pueden variar cada vez que ejecutamos esto. En este caso, detenemos el entrenamiento cuando los centroides no cambian después de dos iteraciones. Inicialmente, definimos  *diff* como 1 y, dentro del bucle while, calculamos esta *diff* como la diferencia entre los centroides de la iteración anterior y la iteración actual.\n",
    "\n",
    "Cuando esta diferencia es 0, detenemos el entrenamiento. Visualicemos ahora los clústeres obtenidos:\n"
   ]
  },
  {
   "cell_type": "code",
   "execution_count": null,
   "metadata": {
    "executionInfo": {
     "elapsed": 441,
     "status": "aborted",
     "timestamp": 1746494269603,
     "user": {
      "displayName": "ALVARO RIMBAUD POMA ALEGRE",
      "userId": "04550474004950021085"
     },
     "user_tz": 300
    },
    "id": "UVhZKw4eKeme"
   },
   "outputs": [],
   "source": [
    "color=['blue','green','cyan']\n",
    "for k in range(K):\n",
    "    data=X[X[\"Cluster\"]==k+1]\n",
    "    plt.scatter(data[\"ApplicantIncome\"],data[\"LoanAmount\"],c=color[k])\n",
    "plt.scatter(Centroids[\"ApplicantIncome\"],Centroids[\"LoanAmount\"],c='red')\n",
    "plt.xlabel('Income')\n",
    "plt.ylabel('Loan Amount (In Thousands)')\n",
    "plt.show()"
   ]
  },
  {
   "cell_type": "markdown",
   "metadata": {
    "id": "jCkifR1rKeme"
   },
   "source": [
    "Aquí se puede visualizar claramente tres grupos. Los puntos rojos representan el centroide de cada grupo. Con el ejemplo presentado se espera que los alumnos hayan comprendido cómo funciona c-means."
   ]
  }
 ],
 "metadata": {
  "colab": {
   "provenance": []
  },
  "kernelspec": {
   "display_name": "Python 3 (ipykernel)",
   "language": "python",
   "name": "python3"
  },
  "language_info": {
   "codemirror_mode": {
    "name": "ipython",
    "version": 3
   },
   "file_extension": ".py",
   "mimetype": "text/x-python",
   "name": "python",
   "nbconvert_exporter": "python",
   "pygments_lexer": "ipython3",
   "version": "3.12.9"
  }
 },
 "nbformat": 4,
 "nbformat_minor": 4
}
